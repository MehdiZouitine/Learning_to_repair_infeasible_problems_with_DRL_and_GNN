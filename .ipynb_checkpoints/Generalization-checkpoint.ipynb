{
 "cells": [
  {
   "cell_type": "code",
   "execution_count": 1,
   "id": "7b5cca93-ae20-4e48-92f9-b3ef0d987548",
   "metadata": {},
   "outputs": [],
   "source": [
    "import numpy as np\n",
    "import torch\n",
    "from tqdm import tqdm\n",
    "import time\n",
    "\n",
    "from env import MAXFSEnv\n",
    "from dka_agent import DBAAgent\n",
    "from gcnn_agent import BipartiteAgent"
   ]
  },
  {
   "cell_type": "code",
   "execution_count": 2,
   "id": "69bbcd69-1f55-485d-8c83-460f71c2330a",
   "metadata": {},
   "outputs": [
    {
     "data": {
      "text/plain": [
       "<All keys matched successfully>"
      ]
     },
     "execution_count": 2,
     "metadata": {},
     "output_type": "execute_result"
    }
   ],
   "source": [
    "device = \"cuda:1\"\n",
    "agent = DBAAgent(\n",
    "        input_dim=4,\n",
    "        hidden_dim=128,\n",
    "        ff_dim=512,\n",
    "        k_dim=64,\n",
    "        v_dim=64,\n",
    "        n_head=3,\n",
    "        n_layers=4,\n",
    "        device=device,\n",
    "    )\n",
    "agent.load_state_dict(torch.load(\"/opt/home/mehdi.zouitine/rl_max_fs/models/best_model_77lu6wt4_30_150_13107200_-31.36.pth\",weights_only=True))"
   ]
  },
  {
   "cell_type": "code",
   "execution_count": 3,
   "id": "38b7787d-bda8-4e33-ac48-7ce16ef0acf3",
   "metadata": {},
   "outputs": [
    {
     "data": {
      "text/plain": [
       "DBAAgent(\n",
       "  (projector): Linear(in_features=4, out_features=128, bias=True)\n",
       "  (layers): ModuleList(\n",
       "    (0-3): 4 x DBALayer(\n",
       "      (attention_var): Attention(\n",
       "        (proj_q): Linear(in_features=128, out_features=192, bias=False)\n",
       "        (proj_k): Linear(in_features=128, out_features=192, bias=False)\n",
       "        (proj_v): Linear(in_features=128, out_features=192, bias=False)\n",
       "        (proj_output): Linear(in_features=192, out_features=128, bias=False)\n",
       "      )\n",
       "      (attention_cons): Attention(\n",
       "        (proj_q): Linear(in_features=128, out_features=192, bias=False)\n",
       "        (proj_k): Linear(in_features=128, out_features=192, bias=False)\n",
       "        (proj_v): Linear(in_features=128, out_features=192, bias=False)\n",
       "        (proj_output): Linear(in_features=192, out_features=128, bias=False)\n",
       "      )\n",
       "      (ff_var): Sequential(\n",
       "        (0): Linear(in_features=128, out_features=512, bias=True)\n",
       "        (1): ReLU()\n",
       "        (2): Linear(in_features=512, out_features=128, bias=True)\n",
       "      )\n",
       "      (ff_cons): Sequential(\n",
       "        (0): Linear(in_features=128, out_features=512, bias=True)\n",
       "        (1): ReLU()\n",
       "        (2): Linear(in_features=512, out_features=128, bias=True)\n",
       "      )\n",
       "      (bn1_var): Normalization(\n",
       "        (norm): BatchNorm1d(128, eps=1e-05, momentum=0.1, affine=True, track_running_stats=True)\n",
       "      )\n",
       "      (bn2_var): Normalization(\n",
       "        (norm): BatchNorm1d(128, eps=1e-05, momentum=0.1, affine=True, track_running_stats=True)\n",
       "      )\n",
       "      (bn1_cons): Normalization(\n",
       "        (norm): BatchNorm1d(128, eps=1e-05, momentum=0.1, affine=True, track_running_stats=True)\n",
       "      )\n",
       "      (bn2_cons): Normalization(\n",
       "        (norm): BatchNorm1d(128, eps=1e-05, momentum=0.1, affine=True, track_running_stats=True)\n",
       "      )\n",
       "    )\n",
       "  )\n",
       "  (policy_head): Linear(in_features=128, out_features=1, bias=True)\n",
       "  (value_head): Sequential(\n",
       "    (0): Linear(in_features=128, out_features=128, bias=True)\n",
       "    (1): ReLU()\n",
       "    (2): Linear(in_features=128, out_features=1, bias=True)\n",
       "  )\n",
       ")"
      ]
     },
     "execution_count": 3,
     "metadata": {},
     "output_type": "execute_result"
    }
   ],
   "source": [
    "agent.eval()\n",
    "agent.to(device)"
   ]
  },
  {
   "cell_type": "code",
   "execution_count": 4,
   "id": "b454027a",
   "metadata": {},
   "outputs": [],
   "source": [
    "gcnn_agent = BipartiteAgent(\n",
    "            cons_nfeats=3,\n",
    "            edge_nfeats=1,\n",
    "            var_nfeats=1,\n",
    "            emb_size=128,\n",
    "            device=device,\n",
    "            n_layers=4,\n",
    "        )\n",
    "gcnn_agent.load_state_dict(torch.load(\"/opt/home/mehdi.zouitine/rl_max_fs/models/best_model_g8rkkjul_30_150_7864320_-36.4.pth\",weights_only=True))\n",
    "gcnn_agent.eval()\n",
    "gcnn_agent.to(device);"
   ]
  },
  {
   "cell_type": "code",
   "execution_count": null,
   "id": "16efb966-3204-4139-92e1-ca03a261b319",
   "metadata": {},
   "outputs": [
    {
     "name": "stderr",
     "output_type": "stream",
     "text": [
      " 14%|██████████▎                                                             | 43/300 [01:55<11:45,  2.74s/it]"
     ]
    }
   ],
   "source": [
    "with torch.no_grad():\n",
    "    env = MAXFSEnv(600, 60)\n",
    "    all_r = []\n",
    "    start = time.time()\n",
    "    for k in tqdm(range(300)):\n",
    "        obs, info = env.reset(seed=k)\n",
    "        done = False\n",
    "        r = 0\n",
    "        while not done:\n",
    "\n",
    "            logits = agent(torch.Tensor(obs[\"constraint_features\"]).unsqueeze(0).to(device),torch.Tensor(obs[\"edge_features\"]).unsqueeze(0).to(device),torch.Tensor(obs[\"mask\"]).unsqueeze(0).to(device),)\n",
    "            action = torch.argmax(logits, dim=1)\n",
    "            obs, reward, done, _, _ = env.step(action)\n",
    "            r += reward\n",
    "        all_r.append(r)\n",
    "    print(\"Time: \", (time.time()-start)/300)"
   ]
  },
  {
   "cell_type": "code",
   "execution_count": 45,
   "id": "ba82dae2-3c2c-4034-960e-5b2dc31d3c2e",
   "metadata": {},
   "outputs": [],
   "source": [
    "mean_r = np.mean(all_r)"
   ]
  },
  {
   "cell_type": "code",
   "execution_count": 46,
   "id": "3bbe2415-d431-43ac-984a-79e3507fd38b",
   "metadata": {},
   "outputs": [
    {
     "data": {
      "text/plain": [
       "-28.706666666666667"
      ]
     },
     "execution_count": 46,
     "metadata": {},
     "output_type": "execute_result"
    }
   ],
   "source": [
    "mean_r"
   ]
  },
  {
   "cell_type": "code",
   "execution_count": 47,
   "id": "86907544-519c-4622-a5d4-7f01f840bbf8",
   "metadata": {},
   "outputs": [
    {
     "data": {
      "text/plain": [
       "12.191552631045628"
      ]
     },
     "execution_count": 47,
     "metadata": {},
     "output_type": "execute_result"
    }
   ],
   "source": [
    "np.std(all_r)"
   ]
  },
  {
   "cell_type": "code",
   "execution_count": null,
   "id": "57da768f",
   "metadata": {},
   "outputs": [],
   "source": []
  },
  {
   "cell_type": "code",
   "execution_count": 26,
   "id": "cd6a3666",
   "metadata": {},
   "outputs": [
    {
     "data": {
      "text/plain": [
       "0.2668786676724752"
      ]
     },
     "execution_count": 26,
     "metadata": {},
     "output_type": "execute_result"
    }
   ],
   "source": [
    "80.06360030174255/300"
   ]
  },
  {
   "cell_type": "code",
   "execution_count": null,
   "id": "c75d4672",
   "metadata": {},
   "outputs": [],
   "source": []
  }
 ],
 "metadata": {
  "kernelspec": {
   "display_name": "Python 3 (ipykernel)",
   "language": "python",
   "name": "python3"
  },
  "language_info": {
   "codemirror_mode": {
    "name": "ipython",
    "version": 3
   },
   "file_extension": ".py",
   "mimetype": "text/x-python",
   "name": "python",
   "nbconvert_exporter": "python",
   "pygments_lexer": "ipython3",
   "version": "3.11.9"
  }
 },
 "nbformat": 4,
 "nbformat_minor": 5
}
