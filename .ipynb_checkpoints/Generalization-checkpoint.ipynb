{
 "cells": [
  {
   "cell_type": "code",
   "execution_count": 1,
   "id": "7b5cca93-ae20-4e48-92f9-b3ef0d987548",
   "metadata": {},
   "outputs": [],
   "source": [
    "from env import MAXFSEnv"
   ]
  },
  {
   "cell_type": "code",
   "execution_count": null,
   "id": "a6f8199d-e54c-42b5-9367-a71694ab6f23",
   "metadata": {},
   "outputs": [],
   "source": []
  },
  {
   "cell_type": "code",
   "execution_count": null,
   "id": "16efb966-3204-4139-92e1-ca03a261b319",
   "metadata": {},
   "outputs": [],
   "source": [
    "env = MAXFSEnv(50, 20, problem_type=\"MILP\")\n",
    "all_r = []\n",
    "for _ in tqdm(range(300)):\n",
    "\n",
    "    obs, info = env.reset()\n",
    "\n",
    "    done = False\n",
    "    r = 0\n",
    "    k = 0\n",
    "    while not done:\n",
    "        print(\"iterations number: \", k)\n",
    "        mask = obs[\"mask\"]\n",
    "        action = np.random.choice(np.argwhere(mask == 0).flatten())\n",
    "        obs, reward, done, _, _ = env.step(action)\n",
    "        r += reward\n",
    "        k += 1\n",
    "    all_r.append(r)"
   ]
  }
 ],
 "metadata": {
  "kernelspec": {
   "display_name": "Python 3 (ipykernel)",
   "language": "python",
   "name": "python3"
  },
  "language_info": {
   "codemirror_mode": {
    "name": "ipython",
    "version": 3
   },
   "file_extension": ".py",
   "mimetype": "text/x-python",
   "name": "python",
   "nbconvert_exporter": "python",
   "pygments_lexer": "ipython3",
   "version": "3.11.9"
  }
 },
 "nbformat": 4,
 "nbformat_minor": 5
}
